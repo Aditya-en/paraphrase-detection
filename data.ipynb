{
 "cells": [
  {
   "cell_type": "code",
   "execution_count": 11,
   "metadata": {},
   "outputs": [],
   "source": [
    "import pandas as pd\n",
    "\n",
    "train_data = pd.read_csv('data\\labeled_final_train.csv')\n",
    "test_data = pd.read_csv('data\\labeled_final_test.csv')"
   ]
  },
  {
   "cell_type": "markdown",
   "metadata": {},
   "source": []
  },
  {
   "cell_type": "code",
   "execution_count": 6,
   "metadata": {},
   "outputs": [
    {
     "data": {
      "text/html": [
       "<div>\n",
       "<style scoped>\n",
       "    .dataframe tbody tr th:only-of-type {\n",
       "        vertical-align: middle;\n",
       "    }\n",
       "\n",
       "    .dataframe tbody tr th {\n",
       "        vertical-align: top;\n",
       "    }\n",
       "\n",
       "    .dataframe thead th {\n",
       "        text-align: right;\n",
       "    }\n",
       "</style>\n",
       "<table border=\"1\" class=\"dataframe\">\n",
       "  <thead>\n",
       "    <tr style=\"text-align: right;\">\n",
       "      <th></th>\n",
       "      <th>id</th>\n",
       "      <th>sentence1</th>\n",
       "      <th>sentence2</th>\n",
       "      <th>label</th>\n",
       "    </tr>\n",
       "  </thead>\n",
       "  <tbody>\n",
       "    <tr>\n",
       "      <th>0</th>\n",
       "      <td>1</td>\n",
       "      <td>In Paris , in October 1560 , he secretly met t...</td>\n",
       "      <td>In October 1560 , he secretly met with the Eng...</td>\n",
       "      <td>0</td>\n",
       "    </tr>\n",
       "    <tr>\n",
       "      <th>1</th>\n",
       "      <td>2</td>\n",
       "      <td>The NBA season of 1975 -- 76 was the 30th seas...</td>\n",
       "      <td>The 1975 -- 76 season of the National Basketba...</td>\n",
       "      <td>1</td>\n",
       "    </tr>\n",
       "    <tr>\n",
       "      <th>2</th>\n",
       "      <td>3</td>\n",
       "      <td>There are also specific discussions , public p...</td>\n",
       "      <td>There are also public discussions , profile sp...</td>\n",
       "      <td>0</td>\n",
       "    </tr>\n",
       "    <tr>\n",
       "      <th>3</th>\n",
       "      <td>4</td>\n",
       "      <td>When comparable rates of flow can be maintaine...</td>\n",
       "      <td>The results are high when comparable flow rate...</td>\n",
       "      <td>1</td>\n",
       "    </tr>\n",
       "    <tr>\n",
       "      <th>4</th>\n",
       "      <td>5</td>\n",
       "      <td>It is the seat of Zerendi District in Akmola R...</td>\n",
       "      <td>It is the seat of the district of Zerendi in A...</td>\n",
       "      <td>1</td>\n",
       "    </tr>\n",
       "  </tbody>\n",
       "</table>\n",
       "</div>"
      ],
      "text/plain": [
       "   id                                          sentence1  \\\n",
       "0   1  In Paris , in October 1560 , he secretly met t...   \n",
       "1   2  The NBA season of 1975 -- 76 was the 30th seas...   \n",
       "2   3  There are also specific discussions , public p...   \n",
       "3   4  When comparable rates of flow can be maintaine...   \n",
       "4   5  It is the seat of Zerendi District in Akmola R...   \n",
       "\n",
       "                                           sentence2  label  \n",
       "0  In October 1560 , he secretly met with the Eng...      0  \n",
       "1  The 1975 -- 76 season of the National Basketba...      1  \n",
       "2  There are also public discussions , profile sp...      0  \n",
       "3  The results are high when comparable flow rate...      1  \n",
       "4  It is the seat of the district of Zerendi in A...      1  "
      ]
     },
     "execution_count": 6,
     "metadata": {},
     "output_type": "execute_result"
    }
   ],
   "source": [
    "train_data.head()\n",
    "# len(train_data)"
   ]
  },
  {
   "cell_type": "code",
   "execution_count": 13,
   "metadata": {},
   "outputs": [],
   "source": [
    "from torch.utils.data import Dataset\n",
    "import torch"
   ]
  },
  {
   "cell_type": "code",
   "execution_count": 9,
   "metadata": {},
   "outputs": [],
   "source": [
    "from transformers import BertTokenizer\n",
    "tokenizer = BertTokenizer.from_pretrained('bert-base-cased')"
   ]
  },
  {
   "cell_type": "code",
   "execution_count": 18,
   "metadata": {},
   "outputs": [
    {
     "name": "stdout",
     "output_type": "stream",
     "text": [
      "Sentence 1 batch shape: torch.Size([8, 128])\n",
      "Sentence 2 batch shape: torch.Size([8, 128])\n",
      "Labels shape: torch.Size([8])\n",
      "tensor([[  101,  1130,  1754,  ...,     0,     0,     0],\n",
      "        [  101,  4101,  2921,  ...,     0,     0,     0],\n",
      "        [  101,  1109, 11730,  ...,     0,     0,     0],\n",
      "        ...,\n",
      "        [  101, 12556,  6582,  ...,     0,     0,     0],\n",
      "        [  101,   148,  7921,  ...,     0,     0,     0],\n",
      "        [  101,  9800,  1233,  ...,     0,     0,     0]])\n"
     ]
    }
   ],
   "source": [
    "import torch\n",
    "import pandas as pd\n",
    "from transformers import BertTokenizer\n",
    "from torch.utils.data import Dataset, DataLoader\n",
    "\n",
    "# Load tokenizer\n",
    "tokenizer = BertTokenizer.from_pretrained('bert-base-cased')\n",
    "\n",
    "# Load CSV file\n",
    "data = pd.read_csv('data/labeled_final_test.csv')\n",
    "\n",
    "# Custom Dataset class\n",
    "class ParaphraseDataset(Dataset):\n",
    "    def __init__(self, data, tokenizer, max_length=128):\n",
    "        self.data = data\n",
    "        self.tokenizer = tokenizer\n",
    "        self.max_length = max_length\n",
    "\n",
    "    def __len__(self):\n",
    "        return len(self.data)\n",
    "\n",
    "    def __getitem__(self, idx):\n",
    "        row = self.data.iloc[idx]\n",
    "\n",
    "        # Tokenize both sentences\n",
    "        encoding1 = self.tokenizer(\n",
    "            row[\"sentence1\"], padding=\"max_length\", truncation=True, \n",
    "            max_length=self.max_length, return_tensors=\"pt\"\n",
    "        )\n",
    "        encoding2 = self.tokenizer(\n",
    "            row[\"sentence2\"], padding=\"max_length\", truncation=True, \n",
    "            max_length=self.max_length, return_tensors=\"pt\"\n",
    "        )\n",
    "\n",
    "        # Extract input tensors\n",
    "        input_ids1 = encoding1[\"input_ids\"].squeeze(0)  # Shape: (seq_len,)\n",
    "        input_ids2 = encoding2[\"input_ids\"].squeeze(0)  # Shape: (seq_len,)\n",
    "\n",
    "        # Convert label to tensor\n",
    "        label = torch.tensor(row[\"label\"], dtype=torch.long)\n",
    "\n",
    "        return (input_ids1, input_ids2, label)\n",
    "\n",
    "# Create Dataset\n",
    "dataset = ParaphraseDataset(data, tokenizer)\n",
    "\n",
    "# Create DataLoader\n",
    "dataloader = DataLoader(dataset, batch_size=8, shuffle=True)\n",
    "\n",
    "# Example batch\n",
    "for batch in dataloader:\n",
    "    sentence1, sentence2, labels = batch\n",
    "    print(\"Sentence 1 batch shape:\", sentence1.shape)  # (batch_size, seq_len)\n",
    "    print(\"Sentence 2 batch shape:\", sentence2.shape)  # (batch_size, seq_len)\n",
    "    print(\"Labels shape:\", labels.shape)  # (batch_size,)\n",
    "    print(sentence1)\n",
    "    break\n"
   ]
  },
  {
   "cell_type": "code",
   "execution_count": 5,
   "metadata": {},
   "outputs": [
    {
     "ename": "ValueError",
     "evalue": "not enough values to unpack (expected 2, got 1)",
     "output_type": "error",
     "traceback": [
      "\u001b[1;31m---------------------------------------------------------------------------\u001b[0m",
      "\u001b[1;31mValueError\u001b[0m                                Traceback (most recent call last)",
      "Cell \u001b[1;32mIn[5], line 4\u001b[0m\n\u001b[0;32m      2\u001b[0m logits1 \u001b[38;5;241m=\u001b[39m torch\u001b[38;5;241m.\u001b[39mrandn(size\u001b[38;5;241m=\u001b[39m(\u001b[38;5;241m12\u001b[39m,\u001b[38;5;241m128\u001b[39m))\n\u001b[0;32m      3\u001b[0m logits2 \u001b[38;5;241m=\u001b[39m torch\u001b[38;5;241m.\u001b[39mrandn(size\u001b[38;5;241m=\u001b[39m(\u001b[38;5;241m12\u001b[39m,\u001b[38;5;241m128\u001b[39m))\n\u001b[1;32m----> 4\u001b[0m similarity \u001b[38;5;241m=\u001b[39m \u001b[43mtorch\u001b[49m\u001b[38;5;241;43m.\u001b[39;49m\u001b[43mtensordot\u001b[49m\u001b[43m(\u001b[49m\u001b[43mlogits1\u001b[49m\u001b[43m,\u001b[49m\u001b[43mlogits2\u001b[49m\u001b[43m,\u001b[49m\u001b[43mdims\u001b[49m\u001b[38;5;241;43m=\u001b[39;49m\u001b[43m(\u001b[49m\u001b[43m[\u001b[49m\u001b[38;5;241;43m1\u001b[39;49m\u001b[43m,\u001b[49m\u001b[38;5;241;43m1\u001b[39;49m\u001b[43m]\u001b[49m\u001b[43m,\u001b[49m\u001b[43m)\u001b[49m\u001b[43m)\u001b[49m\n",
      "File \u001b[1;32md:\\python\\Lib\\site-packages\\torch\\functional.py:1329\u001b[0m, in \u001b[0;36mtensordot\u001b[1;34m(a, b, dims, out)\u001b[0m\n\u001b[0;32m   1326\u001b[0m dims_b: List[\u001b[38;5;28mint\u001b[39m] \u001b[38;5;241m=\u001b[39m []\n\u001b[0;32m   1328\u001b[0m \u001b[38;5;28;01mif\u001b[39;00m \u001b[38;5;28misinstance\u001b[39m(dims, (\u001b[38;5;28mtuple\u001b[39m, \u001b[38;5;28mlist\u001b[39m)):\n\u001b[1;32m-> 1329\u001b[0m     dims_a, dims_b \u001b[38;5;241m=\u001b[39m dims\n\u001b[0;32m   1331\u001b[0m \u001b[38;5;28;01mif\u001b[39;00m \u001b[38;5;28misinstance\u001b[39m(dims, torch\u001b[38;5;241m.\u001b[39mTensor):\n\u001b[0;32m   1332\u001b[0m     num_elements \u001b[38;5;241m=\u001b[39m dims\u001b[38;5;241m.\u001b[39mnumel()\n",
      "\u001b[1;31mValueError\u001b[0m: not enough values to unpack (expected 2, got 1)"
     ]
    }
   ],
   "source": [
    "import torch\n",
    "logits1 = torch.randn(size=(12,128))\n",
    "logits2 = torch.randn(size=(12,128))\n",
    "similarity = torch.tensordot(logits1,logits2,dims=([1,1],))"
   ]
  },
  {
   "cell_type": "code",
   "execution_count": null,
   "metadata": {},
   "outputs": [],
   "source": []
  },
  {
   "cell_type": "code",
   "execution_count": null,
   "metadata": {},
   "outputs": [],
   "source": []
  }
 ],
 "metadata": {
  "kernelspec": {
   "display_name": "Python 3",
   "language": "python",
   "name": "python3"
  },
  "language_info": {
   "codemirror_mode": {
    "name": "ipython",
    "version": 3
   },
   "file_extension": ".py",
   "mimetype": "text/x-python",
   "name": "python",
   "nbconvert_exporter": "python",
   "pygments_lexer": "ipython3",
   "version": "3.11.0"
  }
 },
 "nbformat": 4,
 "nbformat_minor": 2
}
